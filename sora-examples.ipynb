{
 "cells": [
  {
   "cell_type": "code",
   "execution_count": null,
   "id": "10c46f97",
   "metadata": {},
   "outputs": [],
   "source": []
  },
  {
   "cell_type": "markdown",
   "id": "0883c8dc",
   "metadata": {},
   "source": [
    "## Another example"
   ]
  },
  {
   "cell_type": "code",
   "execution_count": null,
   "id": "d8fa265b",
   "metadata": {},
   "outputs": [],
   "source": [
    "prompt = \"A close up view of a glass sphere that has a zen garden within it. There is a small dwarf in the sphere who is raking the zen garden and creating patterns in the sand.\"\n",
    "\n",
    "generated_video = sora(prompt, width=480, height=480, n_seconds=5)"
   ]
  },
  {
   "cell_type": "code",
   "execution_count": null,
   "id": "9f544657",
   "metadata": {},
   "outputs": [],
   "source": [
    "Video(generated_video)"
   ]
  },
  {
   "cell_type": "code",
   "execution_count": null,
   "id": "712184ce",
   "metadata": {},
   "outputs": [],
   "source": [
    "video_link = FileLink(path=generated_video)\n",
    "video_link"
   ]
  },
  {
   "cell_type": "markdown",
   "id": "72492bc1",
   "metadata": {},
   "source": [
    "## Another example"
   ]
  },
  {
   "cell_type": "code",
   "execution_count": null,
   "id": "23c1b2ca",
   "metadata": {},
   "outputs": [],
   "source": [
    "prompt = \"Several giant wooly mammoths approach treading through a snowy meadow, their long wooly fur lightly blows in the wind as they walk, snow covered trees and dramatic snow capped mountains in the distance, mid afternoon light with wispy clouds and a sun high in the distance creates a warm glow, the low camera view is stunning capturing the large furry mammal with beautiful photography, depth of field.\"\n",
    "\n",
    "generated_video = sora(prompt,\n",
    "                       width=1280,\n",
    "                       height=720,\n",
    "                       n_seconds=5,\n",
    "                       )"
   ]
  },
  {
   "cell_type": "code",
   "execution_count": null,
   "id": "05aca0ed",
   "metadata": {},
   "outputs": [],
   "source": [
    "Video(generated_video, width=640)"
   ]
  },
  {
   "cell_type": "code",
   "execution_count": null,
   "id": "534e5b03",
   "metadata": {},
   "outputs": [],
   "source": [
    "video_link = FileLink(path=generated_video)\n",
    "video_link"
   ]
  },
  {
   "cell_type": "markdown",
   "id": "357afb70",
   "metadata": {},
   "source": [
    "## Another example"
   ]
  },
  {
   "cell_type": "code",
   "execution_count": null,
   "id": "3f31d92e",
   "metadata": {},
   "outputs": [],
   "source": [
    "prompt = \"Drone view of waves crashing against the rugged cliffs along Big Sur's garay point beach. The crashing blue waters create white-tipped waves, while the golden light of the setting sun illuminates the rocky shore. A small island with a lighthouse sits in the distance, and green shrubbery covers the cliff's edge. The steep drop from the road down to the beach is a dramatic feat, with the cliff's edges jutting out over the sea. This is a view that captures the raw beauty of the coast and the rugged landscape of the Pacific Coast Highway.\"\n",
    "\n",
    "generated_video = sora(prompt,\n",
    "                       width=1280,\n",
    "                       height=720,\n",
    "                       n_seconds=15,\n",
    "                       )"
   ]
  },
  {
   "cell_type": "code",
   "execution_count": null,
   "id": "70aeffc3",
   "metadata": {},
   "outputs": [],
   "source": [
    "Video(generated_video)"
   ]
  },
  {
   "cell_type": "code",
   "execution_count": null,
   "id": "426fca1c",
   "metadata": {},
   "outputs": [],
   "source": [
    "video_link = FileLink(path=generated_video)\n",
    "video_link"
   ]
  },
  {
   "cell_type": "markdown",
   "id": "42b2bc65",
   "metadata": {},
   "source": [
    "## Another example"
   ]
  },
  {
   "cell_type": "code",
   "execution_count": null,
   "id": "8355673d",
   "metadata": {},
   "outputs": [],
   "source": [
    "prompt = \"Extreme close up of a 25 year old woman's eye blinking, cinematic film shot in 70mm, depth of field, vivid colors, cinematic\"\n",
    "\n",
    "generated_video = sora(prompt,\n",
    "                       width=1280,\n",
    "                       height=720,\n",
    "                       n_seconds=5,\n",
    "                       )"
   ]
  },
  {
   "cell_type": "code",
   "execution_count": null,
   "id": "2e2973f6",
   "metadata": {},
   "outputs": [],
   "source": [
    "Video(generated_video, width=860)"
   ]
  },
  {
   "cell_type": "code",
   "execution_count": null,
   "id": "976d77e6",
   "metadata": {},
   "outputs": [],
   "source": [
    "video_link = FileLink(path=generated_video)\n",
    "video_link"
   ]
  },
  {
   "cell_type": "markdown",
   "id": "d6ded3e4",
   "metadata": {},
   "source": [
    "## Another example"
   ]
  },
  {
   "cell_type": "code",
   "execution_count": null,
   "id": "1f20ab37",
   "metadata": {},
   "outputs": [],
   "source": [
    "prompt = \"Extreme close up of a 50 year old male's eye blinking, cinematic film shot in 70mm, depth of field, vivid colors, cinematic\"\n",
    "\n",
    "generated_video = sora(prompt,\n",
    "                       width=1280,\n",
    "                       height=720,\n",
    "                       n_seconds=5,\n",
    "                       )"
   ]
  },
  {
   "cell_type": "code",
   "execution_count": null,
   "id": "ce823737",
   "metadata": {},
   "outputs": [],
   "source": [
    "Video(generated_video, width=860)"
   ]
  },
  {
   "cell_type": "code",
   "execution_count": null,
   "id": "18763b5c",
   "metadata": {},
   "outputs": [],
   "source": [
    "video_link = FileLink(path=generated_video)\n",
    "video_link"
   ]
  },
  {
   "cell_type": "markdown",
   "id": "8ec500dc",
   "metadata": {},
   "source": [
    "## Another example"
   ]
  },
  {
   "cell_type": "code",
   "execution_count": null,
   "id": "723d7880",
   "metadata": {},
   "outputs": [],
   "source": [
    "prompt = \"Reflections in the window of a train traveling through the Tokyo suburbs.\"\n",
    "\n",
    "generated_video = sora(prompt,\n",
    "                       width=1280,\n",
    "                       height=720,\n",
    "                       n_seconds=10,\n",
    "                       )"
   ]
  },
  {
   "cell_type": "code",
   "execution_count": null,
   "id": "86b9fe3e",
   "metadata": {},
   "outputs": [],
   "source": [
    "Video(generated_video, width=860)"
   ]
  },
  {
   "cell_type": "code",
   "execution_count": null,
   "id": "70284e74",
   "metadata": {},
   "outputs": [],
   "source": [
    "video_link = FileLink(path=generated_video)\n",
    "video_link"
   ]
  },
  {
   "cell_type": "markdown",
   "id": "15b6b16f",
   "metadata": {},
   "source": [
    "## Another example"
   ]
  },
  {
   "cell_type": "code",
   "execution_count": null,
   "id": "95fbd638",
   "metadata": {},
   "outputs": [],
   "source": [
    "prompt = \"A drone view of flock of paper airplanes multicolors flutters through a dense jungle, weaving around trees as if they were migrating birds.\"\n",
    "\n",
    "generated_video = sora(prompt,\n",
    "                       width=1280,\n",
    "                       height=720,\n",
    "                       n_seconds=7,\n",
    "                       )"
   ]
  },
  {
   "cell_type": "code",
   "execution_count": null,
   "id": "5f2096dc",
   "metadata": {},
   "outputs": [],
   "source": [
    "Video(generated_video, width=860)"
   ]
  },
  {
   "cell_type": "code",
   "execution_count": null,
   "id": "b76df6be",
   "metadata": {},
   "outputs": [],
   "source": [
    "video_link = FileLink(path=generated_video)\n",
    "video_link"
   ]
  },
  {
   "cell_type": "markdown",
   "id": "e1e7f0ef",
   "metadata": {},
   "source": [
    "## Another exemple"
   ]
  },
  {
   "cell_type": "code",
   "execution_count": null,
   "id": "deb1e412",
   "metadata": {},
   "outputs": [],
   "source": [
    "prompt = \"Street of Tokyo, rainy day with people walking in a street, restaurants in the street.\"\n",
    "\n",
    "generated_video = sora(prompt,\n",
    "                       width=1280,\n",
    "                       height=720,\n",
    "                       n_seconds=7,\n",
    "                       )"
   ]
  },
  {
   "cell_type": "code",
   "execution_count": null,
   "id": "4536d0a8",
   "metadata": {},
   "outputs": [],
   "source": [
    "Video(generated_video, width=860)"
   ]
  },
  {
   "cell_type": "code",
   "execution_count": null,
   "id": "f2a520ad",
   "metadata": {},
   "outputs": [],
   "source": [
    "video_link = FileLink(path=generated_video)\n",
    "video_link"
   ]
  },
  {
   "cell_type": "code",
   "execution_count": null,
   "id": "972f9a66",
   "metadata": {},
   "outputs": [],
   "source": [
    "!ls $OUTPUT_DIR -lh"
   ]
  },
  {
   "cell_type": "code",
   "execution_count": null,
   "id": "3879c3fd",
   "metadata": {},
   "outputs": [],
   "source": []
  }
 ],
 "metadata": {
  "language_info": {
   "name": "python"
  }
 },
 "nbformat": 4,
 "nbformat_minor": 5
}
